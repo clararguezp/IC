{
 "cells": [
  {
   "cell_type": "code",
   "execution_count": 1,
   "id": "d68d9a7e-a076-46a2-a09c-21b600257eb0",
   "metadata": {},
   "outputs": [],
   "source": [
    "# PRÁCTICA 3 - Métodos de clasificación\n",
    "# Carlos Carnero Mérida\n",
    "# Clara Rodríguez Prieto"
   ]
  },
  {
   "cell_type": "code",
   "execution_count": 2,
   "id": "78f1e42c-e6d3-4c2e-8cfd-a695ca51c778",
   "metadata": {},
   "outputs": [],
   "source": [
    "%matplotlib inline\n",
    "\n",
    "import numpy as np"
   ]
  },
  {
   "cell_type": "code",
   "execution_count": 3,
   "id": "716bd156-8a3d-4435-87b3-bd6994ce9d6b",
   "metadata": {},
   "outputs": [],
   "source": [
    "# Lectura fichero\n",
    "trainData = np.loadtxt('Iris2Clases.txt', delimiter=',', usecols=(0,1,2,3))"
   ]
  },
  {
   "cell_type": "code",
   "execution_count": 4,
   "id": "45a98c53-38e3-40d5-8ea6-812af9466b03",
   "metadata": {},
   "outputs": [],
   "source": [
    "# Lectura ficheros prueba\n",
    "pruebaData1 = np.loadtxt('TestIris01.txt', delimiter=',', usecols=(0,1,2,3), dtype=None).reshape(1, -1)\n",
    "pruebaData2 = np.loadtxt('TestIris02.txt', delimiter=',', usecols=(0,1,2,3), dtype=None).reshape(1, -1)\n",
    "pruebaData3 = np.loadtxt('TestIris03.txt', delimiter=',', usecols=(0,1,2,3), dtype=None).reshape(1, -1)"
   ]
  },
  {
   "cell_type": "code",
   "execution_count": 5,
   "id": "5debe3e4-a554-4004-9279-8e1b1d9f0c90",
   "metadata": {},
   "outputs": [],
   "source": [
    "# AGRUPAMIENTO BORROSO (K-MEDIAS)"
   ]
  },
  {
   "cell_type": "code",
   "execution_count": 6,
   "id": "8930c079-df99-4da5-8c56-4ab968b9e5d7",
   "metadata": {},
   "outputs": [],
   "source": [
    "# Parámetros\n",
    "tolerancia1 = 0.01\n",
    "pesoExponencial = 2\n",
    "clases = 2"
   ]
  },
  {
   "cell_type": "code",
   "execution_count": 7,
   "id": "7914d43a-88c6-496f-94da-49c66ebb68ee",
   "metadata": {},
   "outputs": [],
   "source": [
    "def inicializarCentroidesKMedias() :\n",
    "    a = [4.6, 3.0, 4.0, 0.0]\n",
    "    b = [6.8, 3.4, 4.6, 0.7]\n",
    "    return np.array([a, b])"
   ]
  },
  {
   "cell_type": "code",
   "execution_count": 8,
   "id": "0baefa8d-6749-4e28-bf86-a35568fe3742",
   "metadata": {},
   "outputs": [],
   "source": [
    "def predecir(pruebaData, centroides) :\n",
    "    a = np.linalg.norm(pruebaData - centroides[0]) ** 2\n",
    "    b = np.linalg.norm(pruebaData - centroides[1]) ** 2\n",
    "\n",
    "    if a <= b: return 'Iris-setosa'\n",
    "    else: return 'Iris-versicolor'"
   ]
  },
  {
   "cell_type": "code",
   "execution_count": 9,
   "id": "d9b3c959-3d28-417b-9576-e3a629f3bf19",
   "metadata": {},
   "outputs": [],
   "source": [
    "# Entrenamiento\n",
    "numMuestras = trainData.shape[0]\n",
    "numCaracteristicas = trainData.shape[1]\n",
    "centroides = inicializarCentroidesKMedias()\n",
    "probAleatoria = np.random.rand(numMuestras, clases)\n",
    "centroidesAux = np.zeros_like(centroides)\n",
    "while np.linalg.norm(centroides - centroidesAux) > tolerancia1:\n",
    "    probNormal = probAleatoria / np.sum(probAleatoria, axis=1)[:, np.newaxis]\n",
    "    centroidesNuevos = np.dot((probNormal ** pesoExponencial).T, trainData) / np.sum((probNormal ** pesoExponencial).T, axis=1)[:, np.newaxis]\n",
    "    distancias = np.linalg.norm(trainData[:, np.newaxis, :] - centroidesNuevos, axis=2)\n",
    "    probNueva = 1 / np.sum((distancias[:, :, np.newaxis] / distancias[:, np.newaxis, :]) ** (2 / (pesoExponencial - 1)), axis=2)\n",
    "    centroidesAux = centroides\n",
    "    centroides = centroidesNuevos\n",
    "    probAleatoria = probNueva"
   ]
  },
  {
   "cell_type": "code",
   "execution_count": 10,
   "id": "80337301-5c6c-4bef-b458-adde9ecf84f9",
   "metadata": {},
   "outputs": [
    {
     "name": "stdout",
     "output_type": "stream",
     "text": [
      "TestIris01.txt: Iris-setosa\n",
      "TestIris02.txt: Iris-versicolor\n",
      "TestIris03.txt: Iris-setosa\n"
     ]
    }
   ],
   "source": [
    "# Realizar casos de prueba\n",
    "pruebaPredicciones1 = predecir(pruebaData1, centroides)\n",
    "pruebaPredicciones2 = predecir(pruebaData2, centroides)\n",
    "pruebaPredicciones3 = predecir(pruebaData3, centroides)\n",
    "\n",
    "print(f\"TestIris01.txt: {pruebaPredicciones1}\")\n",
    "print(f\"TestIris02.txt: {pruebaPredicciones2}\")\n",
    "print(f\"TestIris03.txt: {pruebaPredicciones3}\")"
   ]
  },
  {
   "cell_type": "code",
   "execution_count": 11,
   "id": "6f043615-e01c-4ef2-b5ba-a9fe571d61ef",
   "metadata": {},
   "outputs": [],
   "source": [
    "# ALGORITMO DE LLOYD"
   ]
  },
  {
   "cell_type": "code",
   "execution_count": 12,
   "id": "04f30409-4670-4675-97ae-3f15c1567669",
   "metadata": {},
   "outputs": [],
   "source": [
    "# Parámetros\n",
    "tolerancia2 = 10 ** (-10)\n",
    "iteracion = 2\n",
    "numMaxIteraciones = 10\n",
    "razonAprendizaje = 0.1"
   ]
  },
  {
   "cell_type": "code",
   "execution_count": 13,
   "id": "8d761143-a9ae-4543-94ce-af1649a24009",
   "metadata": {},
   "outputs": [],
   "source": [
    "def distanciaEucladiana(a, b) :\n",
    "    return np.sqrt(np.sum((a - b) ** 2))"
   ]
  },
  {
   "cell_type": "code",
   "execution_count": 14,
   "id": "dc5a05bb-0f8b-46f1-983b-a1b46c57be27",
   "metadata": {},
   "outputs": [],
   "source": [
    "def inicializarCentroidesLloyd() :\n",
    "    a = [4.6, 3.0, 4.0, 0.0]\n",
    "    b = [6.8, 3.4, 4.6, 0.7]\n",
    "    return np.array([a, b])"
   ]
  },
  {
   "cell_type": "code",
   "execution_count": 15,
   "id": "3f82cb10-28b5-47dc-af9d-12130af6d45a",
   "metadata": {},
   "outputs": [],
   "source": [
    "def asignarClusters(data, centroides) :\n",
    "    clusters = np.zeros(len(data))\n",
    "    for i, punto in enumerate(data) :\n",
    "        distancias = [distanciaEucladiana(punto, centroide) for centroide in centroides]\n",
    "        clusters[i] = np.argmin(distancias)\n",
    "    return clusters"
   ]
  },
  {
   "cell_type": "code",
   "execution_count": 16,
   "id": "b32f3f69-1d9a-4217-bf5a-04a08711e90b",
   "metadata": {},
   "outputs": [],
   "source": [
    "def calcularCentroides(data, clusters, iteracion) :\n",
    "    centroides = np.zeros((iteracion, data.shape[1]))\n",
    "    for i in range(iteracion) :\n",
    "        puntos = data[clusters == 1]\n",
    "        centroides[i] = np.mean(puntos, axis = 0)\n",
    "    return centroides"
   ]
  },
  {
   "cell_type": "code",
   "execution_count": 17,
   "id": "08fa42d7-61b9-4892-b03b-f31e5638e47b",
   "metadata": {},
   "outputs": [],
   "source": [
    "centroides = inicializarCentroidesLloyd()\n",
    "for i in range(numMaxIteraciones) :\n",
    "    centroidesAux = centroides.copy()\n",
    "    clusters = asignarClusters(trainData, centroides)\n",
    "    centroides = calcularCentroides(trainData, clusters, iteracion)\n",
    "    if np.abs(centroides - centroidesAux).max() < tolerancia2:\n",
    "        break\n",
    "    centroides = centroidesAux + razonAprendizaje * (centroides - centroidesAux)"
   ]
  },
  {
   "cell_type": "code",
   "execution_count": 18,
   "id": "1bd5d2e0-18a6-43aa-aefe-b670b5c45927",
   "metadata": {},
   "outputs": [
    {
     "name": "stdout",
     "output_type": "stream",
     "text": [
      "TestIris01.txt: [0.]\n",
      "TestIris02.txt: [1.]\n",
      "TestIris03.txt: [0.]\n"
     ]
    }
   ],
   "source": [
    "# Realizar casos de prueba\n",
    "pruebaClusters1 = asignarClusters(pruebaData1, centroides)\n",
    "pruebaClusters2 = asignarClusters(pruebaData2, centroides)\n",
    "pruebaClusters3 = asignarClusters(pruebaData3, centroides)\n",
    "\n",
    "print(f\"TestIris01.txt: {pruebaClusters1}\")\n",
    "print(f\"TestIris02.txt: {pruebaClusters2}\")\n",
    "print(f\"TestIris03.txt: {pruebaClusters3}\")"
   ]
  },
  {
   "cell_type": "code",
   "execution_count": 19,
   "id": "4e2f51a1-0eb9-4fe8-8ab3-83b62c46f604",
   "metadata": {},
   "outputs": [],
   "source": [
    "# BAYES"
   ]
  },
  {
   "cell_type": "code",
   "execution_count": 20,
   "id": "23b5743e-0c41-434b-9ab5-6d8d9dd6b377",
   "metadata": {},
   "outputs": [],
   "source": [
    "# Lectura fichero\n",
    "trainDataEtiquetas = {}\n",
    "with open('Iris2Clases.txt', 'r') as fichero:\n",
    "    for linea in fichero:\n",
    "        valores = linea.strip().split(',')\n",
    "        etiqueta = valores[-1]\n",
    "        fila = [float(valor) if valor.replace('.', '', 1).isdigit() else valor for valor in valores[:-1]]\n",
    "        if etiqueta in trainDataEtiquetas:\n",
    "            trainDataEtiquetas[etiqueta].append(fila)\n",
    "        else:\n",
    "            trainDataEtiquetas[etiqueta] = [fila]\n",
    "trainDataEtiquetas = {etiqueta: np.array(filas) for etiqueta, filas in trainDataEtiquetas.items()}"
   ]
  },
  {
   "cell_type": "code",
   "execution_count": 21,
   "id": "5c7ef83e-4b6a-4da2-8912-3f831383800f",
   "metadata": {},
   "outputs": [],
   "source": [
    "def calcularMultivariables(trainData) :\n",
    "    media = np.mean(trainData, axis=0)\n",
    "    covarianza = np.cov(trainData, rowvar=False)\n",
    "    return media, covarianza"
   ]
  },
  {
   "cell_type": "code",
   "execution_count": 22,
   "id": "49ce3eab-ebd4-4591-ab55-0331e1a2f66b",
   "metadata": {},
   "outputs": [],
   "source": [
    "def calcularVerosimilitud(pruebaData, media, covarianza) :\n",
    "    longitud = len(pruebaData)\n",
    "    exponente = np.dot(np.dot((longitud - media).T, np.linalg.inv(covarianza)), (longitud - media)) * -0.5\n",
    "    return exponente"
   ]
  },
  {
   "cell_type": "code",
   "execution_count": 23,
   "id": "f5386b0c-8c1e-4b47-b49a-d77f04ec37e3",
   "metadata": {},
   "outputs": [],
   "source": [
    "# Entrenamiento\n",
    "medias = {}\n",
    "covarianzas = {}\n",
    "etiquetas = {}\n",
    "i = 0\n",
    "for etiqueta, trainData in trainDataEtiquetas.items() :\n",
    "    media, covarianza = calcularMultivariables(trainData)\n",
    "    medias[i] = media\n",
    "    covarianzas[i] = covarianza\n",
    "    etiquetas[i] = etiqueta\n",
    "    i += 1\n",
    "print(f\"Medias: {medias}\")\n",
    "print(f\"Covarianzas: {covarianzas}\")\n",
    "print(f\"Etiquetas: {etiquetas}\")"
   ]
  },
  {
   "cell_type": "code",
   "execution_count": 24,
   "id": "73528ce6-bff2-463a-8baa-78900eda68cf",
   "metadata": {},
   "outputs": [
    {
     "name": "stdout",
     "output_type": "stream",
     "text": [
      "TestIris01.txt: Iris-versicolor\n",
      "TestIris01.txt: {0: -125.96139575281384, 1: -68.22223227647362}\n",
      "TestIris02.txt: Iris-versicolor\n",
      "TestIris02.txt: {0: -125.96139575281384, 1: -68.22223227647362}\n",
      "TestIris03.txt: Iris-versicolor\n",
      "TestIris03.txt: {0: -125.96139575281384, 1: -68.22223227647362}\n"
     ]
    }
   ],
   "source": [
    "# Realizar casos de prueba\n",
    "# Fichero prueba 1\n",
    "pruebaVerosimilitudes1 = {}\n",
    "for i in range(len(trainDataEtiquetas)) :\n",
    "    media = medias[i]\n",
    "    covarianza = covarianzas[i]\n",
    "    pruebaVerosimilitudes1[i] = calcularVerosimilitud(pruebaData1, media, covarianza)\n",
    "pruebaPrediccion1 = max(pruebaVerosimilitudes1)\n",
    "print(f\"TestIris01.txt: {etiquetas[pruebaPrediccion1]}\")\n",
    "print(f\"TestIris01.txt: {pruebaVerosimilitudes1}\")\n",
    "\n",
    "# Fichero prueba 2\n",
    "pruebaVerosimilitudes2 = {}\n",
    "for i in range(len(trainDataEtiquetas)) :\n",
    "    media = medias[i]\n",
    "    covarianza = covarianzas[i]\n",
    "    pruebaVerosimilitudes2[i] = calcularVerosimilitud(pruebaData2, media, covarianza)\n",
    "pruebaPrediccion2 = max(pruebaVerosimilitudes2)\n",
    "print(f\"TestIris02.txt: {etiquetas[pruebaPrediccion2]}\")\n",
    "print(f\"TestIris02.txt: {pruebaVerosimilitudes2}\")\n",
    "\n",
    "# Fichero prueba 3\n",
    "pruebaVerosimilitudes3 = {}\n",
    "for i in range(len(trainDataEtiquetas)) :\n",
    "    media = medias[i]\n",
    "    covarianza = covarianzas[i]\n",
    "    pruebaVerosimilitudes3[i] = calcularVerosimilitud(pruebaData3, media, covarianza)\n",
    "pruebaPrediccion3 = max(pruebaVerosimilitudes1)\n",
    "print(f\"TestIris03.txt: {etiquetas[pruebaPrediccion3]}\")\n",
    "print(f\"TestIris03.txt: {pruebaVerosimilitudes3}\")"
   ]
  },
  {
   "cell_type": "code",
   "execution_count": null,
   "id": "baa5ec6f-d708-4cfa-a92f-4daf00d0156b",
   "metadata": {},
   "outputs": [],
   "source": []
  }
 ],
 "metadata": {
  "kernelspec": {
   "display_name": "Python 3 (ipykernel)",
   "language": "python",
   "name": "python3"
  },
  "language_info": {
   "codemirror_mode": {
    "name": "ipython",
    "version": 3
   },
   "file_extension": ".py",
   "mimetype": "text/x-python",
   "name": "python",
   "nbconvert_exporter": "python",
   "pygments_lexer": "ipython3",
   "version": "3.11.7"
  }
 },
 "nbformat": 4,
 "nbformat_minor": 5
}
